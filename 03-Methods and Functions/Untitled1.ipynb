{
 "cells": [
  {
   "cell_type": "code",
   "execution_count": 1,
   "id": "7842f822",
   "metadata": {},
   "outputs": [],
   "source": [
    "\n",
    "def has_33(num):\n",
    "    for i in range(0,len(num)-1):\n",
    "        if num[i] == 3 and num[i+1] == 3:\n",
    "            return True\n",
    "    return False\n",
    "    "
   ]
  },
  {
   "cell_type": "code",
   "execution_count": 5,
   "id": "1e506991",
   "metadata": {},
   "outputs": [
    {
     "data": {
      "text/plain": [
       "True"
      ]
     },
     "execution_count": 5,
     "metadata": {},
     "output_type": "execute_result"
    }
   ],
   "source": [
    "has_33([3,3,2])"
   ]
  },
  {
   "cell_type": "code",
   "execution_count": 43,
   "id": "2f110ed6",
   "metadata": {},
   "outputs": [],
   "source": [
    "def peper_d(text):\n",
    "    b = \" \"\n",
    "    for i in text:\n",
    "        b += i*3\n",
    "    return b"
   ]
  },
  {
   "cell_type": "code",
   "execution_count": 46,
   "id": "cdd498d4",
   "metadata": {},
   "outputs": [
    {
     "data": {
      "text/plain": [
       "' ttteeexxxttt'"
      ]
     },
     "execution_count": 46,
     "metadata": {},
     "output_type": "execute_result"
    }
   ],
   "source": [
    "peper_d('text')"
   ]
  },
  {
   "cell_type": "code",
   "execution_count": 54,
   "id": "c7918258",
   "metadata": {},
   "outputs": [],
   "source": [
    "#blackjack(5,6,7)\n",
    "\n",
    "def black_jack(a,b,c):\n",
    "    if sum([a,b,c]) <= 21:\n",
    "        return sum([a,b,c])\n",
    "    elif sum([a,b,c]) "
   ]
  },
  {
   "cell_type": "code",
   "execution_count": 55,
   "id": "4062814b",
   "metadata": {},
   "outputs": [
    {
     "data": {
      "text/plain": [
       "18"
      ]
     },
     "execution_count": 55,
     "metadata": {},
     "output_type": "execute_result"
    }
   ],
   "source": [
    "black_jack(5,6,7)"
   ]
  },
  {
   "cell_type": "code",
   "execution_count": null,
   "id": "819d5b9b",
   "metadata": {},
   "outputs": [],
   "source": []
  }
 ],
 "metadata": {
  "kernelspec": {
   "display_name": "Python 3 (ipykernel)",
   "language": "python",
   "name": "python3"
  },
  "language_info": {
   "codemirror_mode": {
    "name": "ipython",
    "version": 3
   },
   "file_extension": ".py",
   "mimetype": "text/x-python",
   "name": "python",
   "nbconvert_exporter": "python",
   "pygments_lexer": "ipython3",
   "version": "3.9.7"
  }
 },
 "nbformat": 4,
 "nbformat_minor": 5
}
